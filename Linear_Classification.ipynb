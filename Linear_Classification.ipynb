{
  "nbformat": 4,
  "nbformat_minor": 0,
  "metadata": {
    "colab": {
      "name": "Linear_Classification.ipynb",
      "provenance": [],
      "collapsed_sections": [],
      "authorship_tag": "ABX9TyNJrvz+BYBWmtIxKtnT9Ggj",
      "include_colab_link": true
    },
    "kernelspec": {
      "name": "python3",
      "display_name": "Python 3"
    }
  },
  "cells": [
    {
      "cell_type": "markdown",
      "metadata": {
        "id": "view-in-github",
        "colab_type": "text"
      },
      "source": [
        "<a href=\"https://colab.research.google.com/github/kumarmayank29/Linear_classification-BCD/blob/main/Linear_Classification.ipynb\" target=\"_parent\"><img src=\"https://colab.research.google.com/assets/colab-badge.svg\" alt=\"Open In Colab\"/></a>"
      ]
    },
    {
      "cell_type": "code",
      "metadata": {
        "colab": {
          "base_uri": "https://localhost:8080/"
        },
        "id": "7KaYzIQ_nwBg",
        "outputId": "afd21ae9-628e-4b28-8f42-8d2fa585b0ec"
      },
      "source": [
        "import tensorflow as tf\r\n",
        "print(tf.__version__)"
      ],
      "execution_count": 132,
      "outputs": [
        {
          "output_type": "stream",
          "text": [
            "2.3.0\n"
          ],
          "name": "stdout"
        }
      ]
    },
    {
      "cell_type": "code",
      "metadata": {
        "id": "uvMWVcD5nyVN"
      },
      "source": [
        "#LOAD THE DATASET\r\n",
        "from sklearn.datasets import load_breast_cancer\r\n",
        "data=load_breast_cancer()"
      ],
      "execution_count": 133,
      "outputs": []
    },
    {
      "cell_type": "code",
      "metadata": {
        "colab": {
          "base_uri": "https://localhost:8080/"
        },
        "id": "z2PyoOEDoN3f",
        "outputId": "1c7427f4-0d2c-4a53-e077-c4e14b8f0c22"
      },
      "source": [
        "type(data)\r\n"
      ],
      "execution_count": 134,
      "outputs": [
        {
          "output_type": "execute_result",
          "data": {
            "text/plain": [
              "sklearn.utils.Bunch"
            ]
          },
          "metadata": {
            "tags": []
          },
          "execution_count": 134
        }
      ]
    },
    {
      "cell_type": "markdown",
      "metadata": {
        "id": "fv3l9H8rob5w"
      },
      "source": [
        "Bunch object is like a dictionary where we have keys like attributes"
      ]
    },
    {
      "cell_type": "code",
      "metadata": {
        "colab": {
          "base_uri": "https://localhost:8080/"
        },
        "id": "KUHMSvaNpB5E",
        "outputId": "6b4517be-1023-4d19-c70d-4ad81b6c316c"
      },
      "source": [
        "data.keys()"
      ],
      "execution_count": 135,
      "outputs": [
        {
          "output_type": "execute_result",
          "data": {
            "text/plain": [
              "dict_keys(['data', 'target', 'target_names', 'DESCR', 'feature_names', 'filename'])"
            ]
          },
          "metadata": {
            "tags": []
          },
          "execution_count": 135
        }
      ]
    },
    {
      "cell_type": "code",
      "metadata": {
        "colab": {
          "base_uri": "https://localhost:8080/"
        },
        "id": "odPAGqDApDi1",
        "outputId": "f06e3fe3-f587-4518-a73d-864d4e57014d"
      },
      "source": [
        "print(data)"
      ],
      "execution_count": 136,
      "outputs": [
        {
          "output_type": "stream",
          "text": [
            "{'data': array([[1.799e+01, 1.038e+01, 1.228e+02, ..., 2.654e-01, 4.601e-01,\n",
            "        1.189e-01],\n",
            "       [2.057e+01, 1.777e+01, 1.329e+02, ..., 1.860e-01, 2.750e-01,\n",
            "        8.902e-02],\n",
            "       [1.969e+01, 2.125e+01, 1.300e+02, ..., 2.430e-01, 3.613e-01,\n",
            "        8.758e-02],\n",
            "       ...,\n",
            "       [1.660e+01, 2.808e+01, 1.083e+02, ..., 1.418e-01, 2.218e-01,\n",
            "        7.820e-02],\n",
            "       [2.060e+01, 2.933e+01, 1.401e+02, ..., 2.650e-01, 4.087e-01,\n",
            "        1.240e-01],\n",
            "       [7.760e+00, 2.454e+01, 4.792e+01, ..., 0.000e+00, 2.871e-01,\n",
            "        7.039e-02]]), 'target': array([0, 0, 0, 0, 0, 0, 0, 0, 0, 0, 0, 0, 0, 0, 0, 0, 0, 0, 0, 1, 1, 1,\n",
            "       0, 0, 0, 0, 0, 0, 0, 0, 0, 0, 0, 0, 0, 0, 0, 1, 0, 0, 0, 0, 0, 0,\n",
            "       0, 0, 1, 0, 1, 1, 1, 1, 1, 0, 0, 1, 0, 0, 1, 1, 1, 1, 0, 1, 0, 0,\n",
            "       1, 1, 1, 1, 0, 1, 0, 0, 1, 0, 1, 0, 0, 1, 1, 1, 0, 0, 1, 0, 0, 0,\n",
            "       1, 1, 1, 0, 1, 1, 0, 0, 1, 1, 1, 0, 0, 1, 1, 1, 1, 0, 1, 1, 0, 1,\n",
            "       1, 1, 1, 1, 1, 1, 1, 0, 0, 0, 1, 0, 0, 1, 1, 1, 0, 0, 1, 0, 1, 0,\n",
            "       0, 1, 0, 0, 1, 1, 0, 1, 1, 0, 1, 1, 1, 1, 0, 1, 1, 1, 1, 1, 1, 1,\n",
            "       1, 1, 0, 1, 1, 1, 1, 0, 0, 1, 0, 1, 1, 0, 0, 1, 1, 0, 0, 1, 1, 1,\n",
            "       1, 0, 1, 1, 0, 0, 0, 1, 0, 1, 0, 1, 1, 1, 0, 1, 1, 0, 0, 1, 0, 0,\n",
            "       0, 0, 1, 0, 0, 0, 1, 0, 1, 0, 1, 1, 0, 1, 0, 0, 0, 0, 1, 1, 0, 0,\n",
            "       1, 1, 1, 0, 1, 1, 1, 1, 1, 0, 0, 1, 1, 0, 1, 1, 0, 0, 1, 0, 1, 1,\n",
            "       1, 1, 0, 1, 1, 1, 1, 1, 0, 1, 0, 0, 0, 0, 0, 0, 0, 0, 0, 0, 0, 0,\n",
            "       0, 0, 1, 1, 1, 1, 1, 1, 0, 1, 0, 1, 1, 0, 1, 1, 0, 1, 0, 0, 1, 1,\n",
            "       1, 1, 1, 1, 1, 1, 1, 1, 1, 1, 1, 0, 1, 1, 0, 1, 0, 1, 1, 1, 1, 1,\n",
            "       1, 1, 1, 1, 1, 1, 1, 1, 1, 0, 1, 1, 1, 0, 1, 0, 1, 1, 1, 1, 0, 0,\n",
            "       0, 1, 1, 1, 1, 0, 1, 0, 1, 0, 1, 1, 1, 0, 1, 1, 1, 1, 1, 1, 1, 0,\n",
            "       0, 0, 1, 1, 1, 1, 1, 1, 1, 1, 1, 1, 1, 0, 0, 1, 0, 0, 0, 1, 0, 0,\n",
            "       1, 1, 1, 1, 1, 0, 1, 1, 1, 1, 1, 0, 1, 1, 1, 0, 1, 1, 0, 0, 1, 1,\n",
            "       1, 1, 1, 1, 0, 1, 1, 1, 1, 1, 1, 1, 0, 1, 1, 1, 1, 1, 0, 1, 1, 0,\n",
            "       1, 1, 1, 1, 1, 1, 1, 1, 1, 1, 1, 1, 0, 1, 0, 0, 1, 0, 1, 1, 1, 1,\n",
            "       1, 0, 1, 1, 0, 1, 0, 1, 1, 0, 1, 0, 1, 1, 1, 1, 1, 1, 1, 1, 0, 0,\n",
            "       1, 1, 1, 1, 1, 1, 0, 1, 1, 1, 1, 1, 1, 1, 1, 1, 1, 0, 1, 1, 1, 1,\n",
            "       1, 1, 1, 0, 1, 0, 1, 1, 0, 1, 1, 1, 1, 1, 0, 0, 1, 0, 1, 0, 1, 1,\n",
            "       1, 1, 1, 0, 1, 1, 0, 1, 0, 1, 0, 0, 1, 1, 1, 0, 1, 1, 1, 1, 1, 1,\n",
            "       1, 1, 1, 1, 1, 0, 1, 0, 0, 1, 1, 1, 1, 1, 1, 1, 1, 1, 1, 1, 1, 1,\n",
            "       1, 1, 1, 1, 1, 1, 1, 1, 1, 1, 1, 1, 0, 0, 0, 0, 0, 0, 1]), 'target_names': array(['malignant', 'benign'], dtype='<U9'), 'DESCR': '.. _breast_cancer_dataset:\\n\\nBreast cancer wisconsin (diagnostic) dataset\\n--------------------------------------------\\n\\n**Data Set Characteristics:**\\n\\n    :Number of Instances: 569\\n\\n    :Number of Attributes: 30 numeric, predictive attributes and the class\\n\\n    :Attribute Information:\\n        - radius (mean of distances from center to points on the perimeter)\\n        - texture (standard deviation of gray-scale values)\\n        - perimeter\\n        - area\\n        - smoothness (local variation in radius lengths)\\n        - compactness (perimeter^2 / area - 1.0)\\n        - concavity (severity of concave portions of the contour)\\n        - concave points (number of concave portions of the contour)\\n        - symmetry \\n        - fractal dimension (\"coastline approximation\" - 1)\\n\\n        The mean, standard error, and \"worst\" or largest (mean of the three\\n        largest values) of these features were computed for each image,\\n        resulting in 30 features.  For instance, field 3 is Mean Radius, field\\n        13 is Radius SE, field 23 is Worst Radius.\\n\\n        - class:\\n                - WDBC-Malignant\\n                - WDBC-Benign\\n\\n    :Summary Statistics:\\n\\n    ===================================== ====== ======\\n                                           Min    Max\\n    ===================================== ====== ======\\n    radius (mean):                        6.981  28.11\\n    texture (mean):                       9.71   39.28\\n    perimeter (mean):                     43.79  188.5\\n    area (mean):                          143.5  2501.0\\n    smoothness (mean):                    0.053  0.163\\n    compactness (mean):                   0.019  0.345\\n    concavity (mean):                     0.0    0.427\\n    concave points (mean):                0.0    0.201\\n    symmetry (mean):                      0.106  0.304\\n    fractal dimension (mean):             0.05   0.097\\n    radius (standard error):              0.112  2.873\\n    texture (standard error):             0.36   4.885\\n    perimeter (standard error):           0.757  21.98\\n    area (standard error):                6.802  542.2\\n    smoothness (standard error):          0.002  0.031\\n    compactness (standard error):         0.002  0.135\\n    concavity (standard error):           0.0    0.396\\n    concave points (standard error):      0.0    0.053\\n    symmetry (standard error):            0.008  0.079\\n    fractal dimension (standard error):   0.001  0.03\\n    radius (worst):                       7.93   36.04\\n    texture (worst):                      12.02  49.54\\n    perimeter (worst):                    50.41  251.2\\n    area (worst):                         185.2  4254.0\\n    smoothness (worst):                   0.071  0.223\\n    compactness (worst):                  0.027  1.058\\n    concavity (worst):                    0.0    1.252\\n    concave points (worst):               0.0    0.291\\n    symmetry (worst):                     0.156  0.664\\n    fractal dimension (worst):            0.055  0.208\\n    ===================================== ====== ======\\n\\n    :Missing Attribute Values: None\\n\\n    :Class Distribution: 212 - Malignant, 357 - Benign\\n\\n    :Creator:  Dr. William H. Wolberg, W. Nick Street, Olvi L. Mangasarian\\n\\n    :Donor: Nick Street\\n\\n    :Date: November, 1995\\n\\nThis is a copy of UCI ML Breast Cancer Wisconsin (Diagnostic) datasets.\\nhttps://goo.gl/U2Uwz2\\n\\nFeatures are computed from a digitized image of a fine needle\\naspirate (FNA) of a breast mass.  They describe\\ncharacteristics of the cell nuclei present in the image.\\n\\nSeparating plane described above was obtained using\\nMultisurface Method-Tree (MSM-T) [K. P. Bennett, \"Decision Tree\\nConstruction Via Linear Programming.\" Proceedings of the 4th\\nMidwest Artificial Intelligence and Cognitive Science Society,\\npp. 97-101, 1992], a classification method which uses linear\\nprogramming to construct a decision tree.  Relevant features\\nwere selected using an exhaustive search in the space of 1-4\\nfeatures and 1-3 separating planes.\\n\\nThe actual linear program used to obtain the separating plane\\nin the 3-dimensional space is that described in:\\n[K. P. Bennett and O. L. Mangasarian: \"Robust Linear\\nProgramming Discrimination of Two Linearly Inseparable Sets\",\\nOptimization Methods and Software 1, 1992, 23-34].\\n\\nThis database is also available through the UW CS ftp server:\\n\\nftp ftp.cs.wisc.edu\\ncd math-prog/cpo-dataset/machine-learn/WDBC/\\n\\n.. topic:: References\\n\\n   - W.N. Street, W.H. Wolberg and O.L. Mangasarian. Nuclear feature extraction \\n     for breast tumor diagnosis. IS&T/SPIE 1993 International Symposium on \\n     Electronic Imaging: Science and Technology, volume 1905, pages 861-870,\\n     San Jose, CA, 1993.\\n   - O.L. Mangasarian, W.N. Street and W.H. Wolberg. Breast cancer diagnosis and \\n     prognosis via linear programming. Operations Research, 43(4), pages 570-577, \\n     July-August 1995.\\n   - W.H. Wolberg, W.N. Street, and O.L. Mangasarian. Machine learning techniques\\n     to diagnose breast cancer from fine-needle aspirates. Cancer Letters 77 (1994) \\n     163-171.', 'feature_names': array(['mean radius', 'mean texture', 'mean perimeter', 'mean area',\n",
            "       'mean smoothness', 'mean compactness', 'mean concavity',\n",
            "       'mean concave points', 'mean symmetry', 'mean fractal dimension',\n",
            "       'radius error', 'texture error', 'perimeter error', 'area error',\n",
            "       'smoothness error', 'compactness error', 'concavity error',\n",
            "       'concave points error', 'symmetry error',\n",
            "       'fractal dimension error', 'worst radius', 'worst texture',\n",
            "       'worst perimeter', 'worst area', 'worst smoothness',\n",
            "       'worst compactness', 'worst concavity', 'worst concave points',\n",
            "       'worst symmetry', 'worst fractal dimension'], dtype='<U23'), 'filename': '/usr/local/lib/python3.6/dist-packages/sklearn/datasets/data/breast_cancer.csv'}\n"
          ],
          "name": "stdout"
        }
      ]
    },
    {
      "cell_type": "code",
      "metadata": {
        "colab": {
          "base_uri": "https://localhost:8080/"
        },
        "id": "7gYYC5bQpePZ",
        "outputId": "d10b7b74-de15-46ec-96a5-c88f72ff2e43"
      },
      "source": [
        "data.keys()"
      ],
      "execution_count": 137,
      "outputs": [
        {
          "output_type": "execute_result",
          "data": {
            "text/plain": [
              "dict_keys(['data', 'target', 'target_names', 'DESCR', 'feature_names', 'filename'])"
            ]
          },
          "metadata": {
            "tags": []
          },
          "execution_count": 137
        }
      ]
    },
    {
      "cell_type": "code",
      "metadata": {
        "colab": {
          "base_uri": "https://localhost:8080/"
        },
        "id": "XOlpPyVtpgoi",
        "outputId": "432fabd5-56f8-46e4-e19b-9d0bd94ba91c"
      },
      "source": [
        "data['data'].shape\r\n",
        "\r\n",
        "#569 rows and 30 columns"
      ],
      "execution_count": 138,
      "outputs": [
        {
          "output_type": "execute_result",
          "data": {
            "text/plain": [
              "(569, 30)"
            ]
          },
          "metadata": {
            "tags": []
          },
          "execution_count": 138
        }
      ]
    },
    {
      "cell_type": "code",
      "metadata": {
        "colab": {
          "base_uri": "https://localhost:8080/"
        },
        "id": "k5HraAZKpOuh",
        "outputId": "19cdbaed-d484-433f-9518-77903d776b2d"
      },
      "source": [
        "len(data)"
      ],
      "execution_count": 139,
      "outputs": [
        {
          "output_type": "execute_result",
          "data": {
            "text/plain": [
              "6"
            ]
          },
          "metadata": {
            "tags": []
          },
          "execution_count": 139
        }
      ]
    },
    {
      "cell_type": "code",
      "metadata": {
        "colab": {
          "base_uri": "https://localhost:8080/"
        },
        "id": "yLeIBPpSpU7_",
        "outputId": "981865e2-0f20-41fd-eac2-456a0d627cd9"
      },
      "source": [
        "data['target']"
      ],
      "execution_count": 140,
      "outputs": [
        {
          "output_type": "execute_result",
          "data": {
            "text/plain": [
              "array([0, 0, 0, 0, 0, 0, 0, 0, 0, 0, 0, 0, 0, 0, 0, 0, 0, 0, 0, 1, 1, 1,\n",
              "       0, 0, 0, 0, 0, 0, 0, 0, 0, 0, 0, 0, 0, 0, 0, 1, 0, 0, 0, 0, 0, 0,\n",
              "       0, 0, 1, 0, 1, 1, 1, 1, 1, 0, 0, 1, 0, 0, 1, 1, 1, 1, 0, 1, 0, 0,\n",
              "       1, 1, 1, 1, 0, 1, 0, 0, 1, 0, 1, 0, 0, 1, 1, 1, 0, 0, 1, 0, 0, 0,\n",
              "       1, 1, 1, 0, 1, 1, 0, 0, 1, 1, 1, 0, 0, 1, 1, 1, 1, 0, 1, 1, 0, 1,\n",
              "       1, 1, 1, 1, 1, 1, 1, 0, 0, 0, 1, 0, 0, 1, 1, 1, 0, 0, 1, 0, 1, 0,\n",
              "       0, 1, 0, 0, 1, 1, 0, 1, 1, 0, 1, 1, 1, 1, 0, 1, 1, 1, 1, 1, 1, 1,\n",
              "       1, 1, 0, 1, 1, 1, 1, 0, 0, 1, 0, 1, 1, 0, 0, 1, 1, 0, 0, 1, 1, 1,\n",
              "       1, 0, 1, 1, 0, 0, 0, 1, 0, 1, 0, 1, 1, 1, 0, 1, 1, 0, 0, 1, 0, 0,\n",
              "       0, 0, 1, 0, 0, 0, 1, 0, 1, 0, 1, 1, 0, 1, 0, 0, 0, 0, 1, 1, 0, 0,\n",
              "       1, 1, 1, 0, 1, 1, 1, 1, 1, 0, 0, 1, 1, 0, 1, 1, 0, 0, 1, 0, 1, 1,\n",
              "       1, 1, 0, 1, 1, 1, 1, 1, 0, 1, 0, 0, 0, 0, 0, 0, 0, 0, 0, 0, 0, 0,\n",
              "       0, 0, 1, 1, 1, 1, 1, 1, 0, 1, 0, 1, 1, 0, 1, 1, 0, 1, 0, 0, 1, 1,\n",
              "       1, 1, 1, 1, 1, 1, 1, 1, 1, 1, 1, 0, 1, 1, 0, 1, 0, 1, 1, 1, 1, 1,\n",
              "       1, 1, 1, 1, 1, 1, 1, 1, 1, 0, 1, 1, 1, 0, 1, 0, 1, 1, 1, 1, 0, 0,\n",
              "       0, 1, 1, 1, 1, 0, 1, 0, 1, 0, 1, 1, 1, 0, 1, 1, 1, 1, 1, 1, 1, 0,\n",
              "       0, 0, 1, 1, 1, 1, 1, 1, 1, 1, 1, 1, 1, 0, 0, 1, 0, 0, 0, 1, 0, 0,\n",
              "       1, 1, 1, 1, 1, 0, 1, 1, 1, 1, 1, 0, 1, 1, 1, 0, 1, 1, 0, 0, 1, 1,\n",
              "       1, 1, 1, 1, 0, 1, 1, 1, 1, 1, 1, 1, 0, 1, 1, 1, 1, 1, 0, 1, 1, 0,\n",
              "       1, 1, 1, 1, 1, 1, 1, 1, 1, 1, 1, 1, 0, 1, 0, 0, 1, 0, 1, 1, 1, 1,\n",
              "       1, 0, 1, 1, 0, 1, 0, 1, 1, 0, 1, 0, 1, 1, 1, 1, 1, 1, 1, 1, 0, 0,\n",
              "       1, 1, 1, 1, 1, 1, 0, 1, 1, 1, 1, 1, 1, 1, 1, 1, 1, 0, 1, 1, 1, 1,\n",
              "       1, 1, 1, 0, 1, 0, 1, 1, 0, 1, 1, 1, 1, 1, 0, 0, 1, 0, 1, 0, 1, 1,\n",
              "       1, 1, 1, 0, 1, 1, 0, 1, 0, 1, 0, 0, 1, 1, 1, 0, 1, 1, 1, 1, 1, 1,\n",
              "       1, 1, 1, 1, 1, 0, 1, 0, 0, 1, 1, 1, 1, 1, 1, 1, 1, 1, 1, 1, 1, 1,\n",
              "       1, 1, 1, 1, 1, 1, 1, 1, 1, 1, 1, 1, 0, 0, 0, 0, 0, 0, 1])"
            ]
          },
          "metadata": {
            "tags": []
          },
          "execution_count": 140
        }
      ]
    },
    {
      "cell_type": "code",
      "metadata": {
        "colab": {
          "base_uri": "https://localhost:8080/"
        },
        "id": "lrLPYb3OpuCE",
        "outputId": "79b0bc9b-57eb-4f94-975c-28d6269543e7"
      },
      "source": [
        "#We want to know names of target\r\n",
        "data.target_names"
      ],
      "execution_count": 141,
      "outputs": [
        {
          "output_type": "execute_result",
          "data": {
            "text/plain": [
              "array(['malignant', 'benign'], dtype='<U9')"
            ]
          },
          "metadata": {
            "tags": []
          },
          "execution_count": 141
        }
      ]
    },
    {
      "cell_type": "code",
      "metadata": {
        "colab": {
          "base_uri": "https://localhost:8080/"
        },
        "id": "SHo-5x5qp8x8",
        "outputId": "1d845b5d-40a1-469c-b7cb-7697bbb8c2ee"
      },
      "source": [
        "#Its the name of columns\r\n",
        "data.feature_names"
      ],
      "execution_count": 142,
      "outputs": [
        {
          "output_type": "execute_result",
          "data": {
            "text/plain": [
              "array(['mean radius', 'mean texture', 'mean perimeter', 'mean area',\n",
              "       'mean smoothness', 'mean compactness', 'mean concavity',\n",
              "       'mean concave points', 'mean symmetry', 'mean fractal dimension',\n",
              "       'radius error', 'texture error', 'perimeter error', 'area error',\n",
              "       'smoothness error', 'compactness error', 'concavity error',\n",
              "       'concave points error', 'symmetry error',\n",
              "       'fractal dimension error', 'worst radius', 'worst texture',\n",
              "       'worst perimeter', 'worst area', 'worst smoothness',\n",
              "       'worst compactness', 'worst concavity', 'worst concave points',\n",
              "       'worst symmetry', 'worst fractal dimension'], dtype='<U23')"
            ]
          },
          "metadata": {
            "tags": []
          },
          "execution_count": 142
        }
      ]
    },
    {
      "cell_type": "code",
      "metadata": {
        "colab": {
          "base_uri": "https://localhost:8080/"
        },
        "id": "Ce6dtEjEqG3v",
        "outputId": "2381276b-2194-483d-d203-e5c1987c8c92"
      },
      "source": [
        "len(data['feature_names'])\r\n"
      ],
      "execution_count": 143,
      "outputs": [
        {
          "output_type": "execute_result",
          "data": {
            "text/plain": [
              "30"
            ]
          },
          "metadata": {
            "tags": []
          },
          "execution_count": 143
        }
      ]
    },
    {
      "cell_type": "markdown",
      "metadata": {
        "id": "GFKXU7ANq17f"
      },
      "source": [
        "So we basically have 569 rows each row has 30 columns as row1- mean radius', 'mean texture', 'mean perimeter', 'mean area','mean smoothness', 'mean compactness', 'mean concavity','mean concave points', 'mean symmetry', 'mean fractal dimension', 'radius error', 'texture error', 'perimeter error', 'area error','smoothness error', 'compactness error', 'concavity error', 'concave points error', 'symmetry error','fractal dimension error', 'worst radius', 'worst texture','worst perimeter', 'worst area', 'worst smoothness','worst compactness', 'worst concavity', 'worst concave points','worst symmetry', 'worst fractal dimension'\r\n",
        "       \r\n",
        "Similarly row2 has same 30 features likewise we have from 0 to 568 rows each with 30 columns or features   "
      ]
    },
    {
      "cell_type": "code",
      "metadata": {
        "colab": {
          "base_uri": "https://localhost:8080/",
          "height": 35
        },
        "id": "OC_A48EZqnXj",
        "outputId": "b987c43c-3cec-4cc5-fa5a-7fbb3ce4a98a"
      },
      "source": [
        "data.filename"
      ],
      "execution_count": 144,
      "outputs": [
        {
          "output_type": "execute_result",
          "data": {
            "application/vnd.google.colaboratory.intrinsic+json": {
              "type": "string"
            },
            "text/plain": [
              "'/usr/local/lib/python3.6/dist-packages/sklearn/datasets/data/breast_cancer.csv'"
            ]
          },
          "metadata": {
            "tags": []
          },
          "execution_count": 144
        }
      ]
    },
    {
      "cell_type": "code",
      "metadata": {
        "id": "P-7kf0GXrgwZ"
      },
      "source": [
        "from sklearn.model_selection import train_test_split\r\n",
        "X_train,X_test,y_train,y_test=train_test_split(data['data'],data['target'],test_size=0.33)"
      ],
      "execution_count": 145,
      "outputs": []
    },
    {
      "cell_type": "code",
      "metadata": {
        "colab": {
          "base_uri": "https://localhost:8080/"
        },
        "id": "nh1-5Ao-sP6C",
        "outputId": "6ecc8d57-85f3-47c2-a040-174d62e320c2"
      },
      "source": [
        "X_train[0]"
      ],
      "execution_count": 146,
      "outputs": [
        {
          "output_type": "execute_result",
          "data": {
            "text/plain": [
              "array([1.303e+01, 1.842e+01, 8.261e+01, 5.238e+02, 8.983e-02, 3.766e-02,\n",
              "       2.562e-02, 2.923e-02, 1.467e-01, 5.863e-02, 1.839e-01, 2.342e+00,\n",
              "       1.170e+00, 1.416e+01, 4.352e-03, 4.899e-03, 1.343e-02, 1.164e-02,\n",
              "       2.671e-02, 1.777e-03, 1.330e+01, 2.281e+01, 8.446e+01, 5.459e+02,\n",
              "       9.701e-02, 4.619e-02, 4.833e-02, 5.013e-02, 1.987e-01, 6.169e-02])"
            ]
          },
          "metadata": {
            "tags": []
          },
          "execution_count": 146
        }
      ]
    },
    {
      "cell_type": "code",
      "metadata": {
        "colab": {
          "base_uri": "https://localhost:8080/"
        },
        "id": "x8wTKVhTr-IX",
        "outputId": "6c8b4088-fbd1-467b-ee47-db8cb114612f"
      },
      "source": [
        "len(X_train[0])"
      ],
      "execution_count": 147,
      "outputs": [
        {
          "output_type": "execute_result",
          "data": {
            "text/plain": [
              "30"
            ]
          },
          "metadata": {
            "tags": []
          },
          "execution_count": 147
        }
      ]
    },
    {
      "cell_type": "code",
      "metadata": {
        "colab": {
          "base_uri": "https://localhost:8080/"
        },
        "id": "V3PXIPHHsE0S",
        "outputId": "11dbdce1-24db-44ac-e5de-b55a9b94dd0a"
      },
      "source": [
        "X_train.shape"
      ],
      "execution_count": 148,
      "outputs": [
        {
          "output_type": "execute_result",
          "data": {
            "text/plain": [
              "(381, 30)"
            ]
          },
          "metadata": {
            "tags": []
          },
          "execution_count": 148
        }
      ]
    },
    {
      "cell_type": "markdown",
      "metadata": {
        "id": "ytq-klLIsomR"
      },
      "source": [
        "N:Number of rows and D:Number of Features"
      ]
    },
    {
      "cell_type": "code",
      "metadata": {
        "colab": {
          "base_uri": "https://localhost:8080/"
        },
        "id": "6GUN1zErsi-G",
        "outputId": "cbe96ea8-e1c4-4332-cbab-4891fa0300af"
      },
      "source": [
        "N,D=X_train.shape\r\n",
        "print(N,D)"
      ],
      "execution_count": 149,
      "outputs": [
        {
          "output_type": "stream",
          "text": [
            "381 30\n"
          ],
          "name": "stdout"
        }
      ]
    },
    {
      "cell_type": "markdown",
      "metadata": {
        "id": "tIa1FWpstEQk"
      },
      "source": [
        "Before Building neural Network its better to Scale the numbers because neural network hates really large numbers"
      ]
    },
    {
      "cell_type": "code",
      "metadata": {
        "id": "qRtcM1gJs7HU"
      },
      "source": [
        "#Scaling"
      ],
      "execution_count": 150,
      "outputs": []
    },
    {
      "cell_type": "code",
      "metadata": {
        "id": "QsoVXDgUtQJR"
      },
      "source": [
        "from sklearn.preprocessing import StandardScaler\r\n",
        "scaler=StandardScaler()\r\n",
        "X_train=scaler.fit_transform(X_train)\r\n",
        "X_test=scaler.fit_transform(X_test)"
      ],
      "execution_count": 151,
      "outputs": []
    },
    {
      "cell_type": "markdown",
      "metadata": {
        "id": "1iV7EihBzFuo"
      },
      "source": [
        "**TENSORFLOW**\r\n",
        "\r\n",
        "\r\n",
        "First we will be building a model of type Sequential\r\n",
        "Sequential Consists of two objects:\r\n",
        "1)Input:Placeholder.Used to specify size of input features i.e D in our case\r\n",
        "\r\n",
        "2)Dense:Real Work ie Model learning happen here\r\n",
        "\r\n",
        "This is a binary Classification problem therefore activation function used at the output layer is :Sigmoid\r\n"
      ]
    },
    {
      "cell_type": "code",
      "metadata": {
        "id": "nab5EMzGy1LS"
      },
      "source": [
        "#BUILD THE MODEL\r\n",
        "\r\n",
        "# WAY 1\r\n",
        "#import tensorflow as tf\r\n",
        "#import keras\r\n",
        "#tf.keras.models.Sequential([\r\n",
        " #                           tf.keras.layers.Input(shape=(D,))\r\n",
        "                          #tf.keras.layers.Dense(1,activation='sigmoid')\r\n",
        "#])\r\n"
      ],
      "execution_count": 152,
      "outputs": []
    },
    {
      "cell_type": "markdown",
      "metadata": {
        "id": "aSLBi5SsGdSu"
      },
      "source": [
        "**BUILD A MODEL**"
      ]
    },
    {
      "cell_type": "code",
      "metadata": {
        "id": "qYFvGAbDGc3P"
      },
      "source": [
        "model=tf.keras.models.Sequential()\r\n",
        "model.add(tf.keras.layers.Dense(1,input_shape=(D,),activation='sigmoid'))\r\n"
      ],
      "execution_count": 153,
      "outputs": []
    },
    {
      "cell_type": "markdown",
      "metadata": {
        "id": "M_b-sAU_Gqf7"
      },
      "source": [
        "**NOW COMPILE THE MODEL**"
      ]
    },
    {
      "cell_type": "code",
      "metadata": {
        "id": "zPH3ueqh078T"
      },
      "source": [
        "model.compile(\r\n",
        "    optimizer='adam',\r\n",
        "    loss='binary_crossentropy',\r\n",
        "    metrics=['accuracy'],\r\n",
        ")\r\n"
      ],
      "execution_count": 154,
      "outputs": []
    },
    {
      "cell_type": "markdown",
      "metadata": {
        "id": "ohZT0_ugHVBT"
      },
      "source": [
        "**TRAIN THE MODEL FOR 100 EPOCHS**"
      ]
    },
    {
      "cell_type": "markdown",
      "metadata": {
        "id": "Bi2te5-3MeHO"
      },
      "source": [
        "**So What is an Epoch ?**\r\n",
        "As we know neural networks learn by updating a there weights and bias untill the predicted output matches with actual output.Unless this does not happens Neural network continues to learn.\r\n",
        "Epoch is combination of Forward and Backward Pass(Required when predicted does not match with actual output)  \r\n"
      ]
    },
    {
      "cell_type": "code",
      "metadata": {
        "colab": {
          "base_uri": "https://localhost:8080/"
        },
        "id": "bEI_JigkFyTW",
        "outputId": "98e4614c-118c-4bec-c06e-b12756d0bc5e"
      },
      "source": [
        "#Model fitted and stored inside r\r\n",
        "r=model.fit(X_train,y_train,validation_data=(X_test,y_test),epochs=100)"
      ],
      "execution_count": 155,
      "outputs": [
        {
          "output_type": "stream",
          "text": [
            "Epoch 1/100\n",
            "12/12 [==============================] - 0s 11ms/step - loss: 0.8850 - accuracy: 0.4409 - val_loss: 0.7928 - val_accuracy: 0.5213\n",
            "Epoch 2/100\n",
            "12/12 [==============================] - 0s 3ms/step - loss: 0.8078 - accuracy: 0.4908 - val_loss: 0.7203 - val_accuracy: 0.5851\n",
            "Epoch 3/100\n",
            "12/12 [==============================] - 0s 3ms/step - loss: 0.7365 - accuracy: 0.5617 - val_loss: 0.6573 - val_accuracy: 0.6383\n",
            "Epoch 4/100\n",
            "12/12 [==============================] - 0s 3ms/step - loss: 0.6777 - accuracy: 0.6352 - val_loss: 0.6002 - val_accuracy: 0.6702\n",
            "Epoch 5/100\n",
            "12/12 [==============================] - 0s 3ms/step - loss: 0.6245 - accuracy: 0.6850 - val_loss: 0.5506 - val_accuracy: 0.7021\n",
            "Epoch 6/100\n",
            "12/12 [==============================] - 0s 2ms/step - loss: 0.5771 - accuracy: 0.7270 - val_loss: 0.5087 - val_accuracy: 0.7766\n",
            "Epoch 7/100\n",
            "12/12 [==============================] - 0s 3ms/step - loss: 0.5391 - accuracy: 0.7638 - val_loss: 0.4713 - val_accuracy: 0.8032\n",
            "Epoch 8/100\n",
            "12/12 [==============================] - 0s 2ms/step - loss: 0.5024 - accuracy: 0.7927 - val_loss: 0.4401 - val_accuracy: 0.8351\n",
            "Epoch 9/100\n",
            "12/12 [==============================] - 0s 2ms/step - loss: 0.4723 - accuracy: 0.8110 - val_loss: 0.4122 - val_accuracy: 0.8511\n",
            "Epoch 10/100\n",
            "12/12 [==============================] - 0s 2ms/step - loss: 0.4449 - accuracy: 0.8241 - val_loss: 0.3878 - val_accuracy: 0.8777\n",
            "Epoch 11/100\n",
            "12/12 [==============================] - 0s 3ms/step - loss: 0.4208 - accuracy: 0.8425 - val_loss: 0.3665 - val_accuracy: 0.8883\n",
            "Epoch 12/100\n",
            "12/12 [==============================] - 0s 3ms/step - loss: 0.3992 - accuracy: 0.8609 - val_loss: 0.3474 - val_accuracy: 0.8936\n",
            "Epoch 13/100\n",
            "12/12 [==============================] - 0s 2ms/step - loss: 0.3793 - accuracy: 0.8714 - val_loss: 0.3308 - val_accuracy: 0.9096\n",
            "Epoch 14/100\n",
            "12/12 [==============================] - 0s 3ms/step - loss: 0.3617 - accuracy: 0.8845 - val_loss: 0.3159 - val_accuracy: 0.9149\n",
            "Epoch 15/100\n",
            "12/12 [==============================] - 0s 2ms/step - loss: 0.3463 - accuracy: 0.8871 - val_loss: 0.3020 - val_accuracy: 0.9149\n",
            "Epoch 16/100\n",
            "12/12 [==============================] - 0s 2ms/step - loss: 0.3312 - accuracy: 0.8898 - val_loss: 0.2899 - val_accuracy: 0.9149\n",
            "Epoch 17/100\n",
            "12/12 [==============================] - 0s 3ms/step - loss: 0.3180 - accuracy: 0.8950 - val_loss: 0.2789 - val_accuracy: 0.9202\n",
            "Epoch 18/100\n",
            "12/12 [==============================] - 0s 3ms/step - loss: 0.3067 - accuracy: 0.9029 - val_loss: 0.2684 - val_accuracy: 0.9255\n",
            "Epoch 19/100\n",
            "12/12 [==============================] - 0s 3ms/step - loss: 0.2955 - accuracy: 0.9081 - val_loss: 0.2591 - val_accuracy: 0.9309\n",
            "Epoch 20/100\n",
            "12/12 [==============================] - 0s 4ms/step - loss: 0.2854 - accuracy: 0.9160 - val_loss: 0.2506 - val_accuracy: 0.9309\n",
            "Epoch 21/100\n",
            "12/12 [==============================] - 0s 3ms/step - loss: 0.2766 - accuracy: 0.9186 - val_loss: 0.2423 - val_accuracy: 0.9415\n",
            "Epoch 22/100\n",
            "12/12 [==============================] - 0s 3ms/step - loss: 0.2681 - accuracy: 0.9239 - val_loss: 0.2349 - val_accuracy: 0.9415\n",
            "Epoch 23/100\n",
            "12/12 [==============================] - 0s 3ms/step - loss: 0.2601 - accuracy: 0.9265 - val_loss: 0.2282 - val_accuracy: 0.9468\n",
            "Epoch 24/100\n",
            "12/12 [==============================] - 0s 2ms/step - loss: 0.2533 - accuracy: 0.9291 - val_loss: 0.2217 - val_accuracy: 0.9521\n",
            "Epoch 25/100\n",
            "12/12 [==============================] - 0s 3ms/step - loss: 0.2462 - accuracy: 0.9344 - val_loss: 0.2157 - val_accuracy: 0.9521\n",
            "Epoch 26/100\n",
            "12/12 [==============================] - 0s 2ms/step - loss: 0.2400 - accuracy: 0.9344 - val_loss: 0.2100 - val_accuracy: 0.9574\n",
            "Epoch 27/100\n",
            "12/12 [==============================] - 0s 2ms/step - loss: 0.2340 - accuracy: 0.9370 - val_loss: 0.2048 - val_accuracy: 0.9628\n",
            "Epoch 28/100\n",
            "12/12 [==============================] - 0s 2ms/step - loss: 0.2284 - accuracy: 0.9423 - val_loss: 0.2000 - val_accuracy: 0.9681\n",
            "Epoch 29/100\n",
            "12/12 [==============================] - 0s 3ms/step - loss: 0.2232 - accuracy: 0.9423 - val_loss: 0.1954 - val_accuracy: 0.9681\n",
            "Epoch 30/100\n",
            "12/12 [==============================] - 0s 3ms/step - loss: 0.2182 - accuracy: 0.9423 - val_loss: 0.1910 - val_accuracy: 0.9681\n",
            "Epoch 31/100\n",
            "12/12 [==============================] - 0s 3ms/step - loss: 0.2137 - accuracy: 0.9423 - val_loss: 0.1866 - val_accuracy: 0.9628\n",
            "Epoch 32/100\n",
            "12/12 [==============================] - 0s 3ms/step - loss: 0.2092 - accuracy: 0.9475 - val_loss: 0.1826 - val_accuracy: 0.9628\n",
            "Epoch 33/100\n",
            "12/12 [==============================] - 0s 3ms/step - loss: 0.2048 - accuracy: 0.9475 - val_loss: 0.1790 - val_accuracy: 0.9681\n",
            "Epoch 34/100\n",
            "12/12 [==============================] - 0s 3ms/step - loss: 0.2008 - accuracy: 0.9475 - val_loss: 0.1755 - val_accuracy: 0.9681\n",
            "Epoch 35/100\n",
            "12/12 [==============================] - 0s 3ms/step - loss: 0.1972 - accuracy: 0.9475 - val_loss: 0.1721 - val_accuracy: 0.9681\n",
            "Epoch 36/100\n",
            "12/12 [==============================] - 0s 3ms/step - loss: 0.1934 - accuracy: 0.9501 - val_loss: 0.1689 - val_accuracy: 0.9734\n",
            "Epoch 37/100\n",
            "12/12 [==============================] - 0s 3ms/step - loss: 0.1900 - accuracy: 0.9528 - val_loss: 0.1659 - val_accuracy: 0.9734\n",
            "Epoch 38/100\n",
            "12/12 [==============================] - 0s 3ms/step - loss: 0.1867 - accuracy: 0.9528 - val_loss: 0.1630 - val_accuracy: 0.9734\n",
            "Epoch 39/100\n",
            "12/12 [==============================] - 0s 3ms/step - loss: 0.1835 - accuracy: 0.9554 - val_loss: 0.1603 - val_accuracy: 0.9734\n",
            "Epoch 40/100\n",
            "12/12 [==============================] - 0s 3ms/step - loss: 0.1805 - accuracy: 0.9554 - val_loss: 0.1576 - val_accuracy: 0.9734\n",
            "Epoch 41/100\n",
            "12/12 [==============================] - 0s 3ms/step - loss: 0.1777 - accuracy: 0.9554 - val_loss: 0.1551 - val_accuracy: 0.9734\n",
            "Epoch 42/100\n",
            "12/12 [==============================] - 0s 3ms/step - loss: 0.1749 - accuracy: 0.9554 - val_loss: 0.1527 - val_accuracy: 0.9734\n",
            "Epoch 43/100\n",
            "12/12 [==============================] - 0s 3ms/step - loss: 0.1722 - accuracy: 0.9554 - val_loss: 0.1504 - val_accuracy: 0.9734\n",
            "Epoch 44/100\n",
            "12/12 [==============================] - 0s 3ms/step - loss: 0.1697 - accuracy: 0.9554 - val_loss: 0.1482 - val_accuracy: 0.9734\n",
            "Epoch 45/100\n",
            "12/12 [==============================] - 0s 3ms/step - loss: 0.1672 - accuracy: 0.9554 - val_loss: 0.1460 - val_accuracy: 0.9734\n",
            "Epoch 46/100\n",
            "12/12 [==============================] - 0s 3ms/step - loss: 0.1648 - accuracy: 0.9554 - val_loss: 0.1440 - val_accuracy: 0.9734\n",
            "Epoch 47/100\n",
            "12/12 [==============================] - 0s 3ms/step - loss: 0.1626 - accuracy: 0.9554 - val_loss: 0.1420 - val_accuracy: 0.9734\n",
            "Epoch 48/100\n",
            "12/12 [==============================] - 0s 3ms/step - loss: 0.1603 - accuracy: 0.9580 - val_loss: 0.1402 - val_accuracy: 0.9734\n",
            "Epoch 49/100\n",
            "12/12 [==============================] - 0s 3ms/step - loss: 0.1585 - accuracy: 0.9580 - val_loss: 0.1384 - val_accuracy: 0.9734\n",
            "Epoch 50/100\n",
            "12/12 [==============================] - 0s 3ms/step - loss: 0.1563 - accuracy: 0.9580 - val_loss: 0.1367 - val_accuracy: 0.9734\n",
            "Epoch 51/100\n",
            "12/12 [==============================] - 0s 2ms/step - loss: 0.1545 - accuracy: 0.9606 - val_loss: 0.1350 - val_accuracy: 0.9734\n",
            "Epoch 52/100\n",
            "12/12 [==============================] - 0s 3ms/step - loss: 0.1525 - accuracy: 0.9606 - val_loss: 0.1334 - val_accuracy: 0.9734\n",
            "Epoch 53/100\n",
            "12/12 [==============================] - 0s 3ms/step - loss: 0.1507 - accuracy: 0.9606 - val_loss: 0.1319 - val_accuracy: 0.9734\n",
            "Epoch 54/100\n",
            "12/12 [==============================] - 0s 3ms/step - loss: 0.1490 - accuracy: 0.9633 - val_loss: 0.1304 - val_accuracy: 0.9734\n",
            "Epoch 55/100\n",
            "12/12 [==============================] - 0s 3ms/step - loss: 0.1473 - accuracy: 0.9633 - val_loss: 0.1289 - val_accuracy: 0.9734\n",
            "Epoch 56/100\n",
            "12/12 [==============================] - 0s 3ms/step - loss: 0.1456 - accuracy: 0.9633 - val_loss: 0.1277 - val_accuracy: 0.9734\n",
            "Epoch 57/100\n",
            "12/12 [==============================] - 0s 3ms/step - loss: 0.1441 - accuracy: 0.9633 - val_loss: 0.1263 - val_accuracy: 0.9734\n",
            "Epoch 58/100\n",
            "12/12 [==============================] - 0s 3ms/step - loss: 0.1426 - accuracy: 0.9633 - val_loss: 0.1249 - val_accuracy: 0.9734\n",
            "Epoch 59/100\n",
            "12/12 [==============================] - 0s 3ms/step - loss: 0.1411 - accuracy: 0.9633 - val_loss: 0.1237 - val_accuracy: 0.9734\n",
            "Epoch 60/100\n",
            "12/12 [==============================] - 0s 3ms/step - loss: 0.1397 - accuracy: 0.9659 - val_loss: 0.1225 - val_accuracy: 0.9734\n",
            "Epoch 61/100\n",
            "12/12 [==============================] - 0s 3ms/step - loss: 0.1383 - accuracy: 0.9659 - val_loss: 0.1213 - val_accuracy: 0.9787\n",
            "Epoch 62/100\n",
            "12/12 [==============================] - 0s 3ms/step - loss: 0.1370 - accuracy: 0.9685 - val_loss: 0.1202 - val_accuracy: 0.9787\n",
            "Epoch 63/100\n",
            "12/12 [==============================] - 0s 3ms/step - loss: 0.1356 - accuracy: 0.9711 - val_loss: 0.1191 - val_accuracy: 0.9787\n",
            "Epoch 64/100\n",
            "12/12 [==============================] - 0s 3ms/step - loss: 0.1344 - accuracy: 0.9711 - val_loss: 0.1181 - val_accuracy: 0.9787\n",
            "Epoch 65/100\n",
            "12/12 [==============================] - 0s 3ms/step - loss: 0.1332 - accuracy: 0.9711 - val_loss: 0.1170 - val_accuracy: 0.9787\n",
            "Epoch 66/100\n",
            "12/12 [==============================] - 0s 3ms/step - loss: 0.1320 - accuracy: 0.9738 - val_loss: 0.1160 - val_accuracy: 0.9787\n",
            "Epoch 67/100\n",
            "12/12 [==============================] - 0s 3ms/step - loss: 0.1309 - accuracy: 0.9764 - val_loss: 0.1151 - val_accuracy: 0.9787\n",
            "Epoch 68/100\n",
            "12/12 [==============================] - 0s 3ms/step - loss: 0.1297 - accuracy: 0.9764 - val_loss: 0.1141 - val_accuracy: 0.9787\n",
            "Epoch 69/100\n",
            "12/12 [==============================] - 0s 3ms/step - loss: 0.1287 - accuracy: 0.9764 - val_loss: 0.1131 - val_accuracy: 0.9787\n",
            "Epoch 70/100\n",
            "12/12 [==============================] - 0s 3ms/step - loss: 0.1276 - accuracy: 0.9764 - val_loss: 0.1122 - val_accuracy: 0.9787\n",
            "Epoch 71/100\n",
            "12/12 [==============================] - 0s 3ms/step - loss: 0.1266 - accuracy: 0.9764 - val_loss: 0.1113 - val_accuracy: 0.9787\n",
            "Epoch 72/100\n",
            "12/12 [==============================] - 0s 3ms/step - loss: 0.1256 - accuracy: 0.9764 - val_loss: 0.1106 - val_accuracy: 0.9787\n",
            "Epoch 73/100\n",
            "12/12 [==============================] - 0s 3ms/step - loss: 0.1247 - accuracy: 0.9764 - val_loss: 0.1097 - val_accuracy: 0.9787\n",
            "Epoch 74/100\n",
            "12/12 [==============================] - 0s 3ms/step - loss: 0.1237 - accuracy: 0.9764 - val_loss: 0.1089 - val_accuracy: 0.9787\n",
            "Epoch 75/100\n",
            "12/12 [==============================] - 0s 3ms/step - loss: 0.1228 - accuracy: 0.9764 - val_loss: 0.1082 - val_accuracy: 0.9787\n",
            "Epoch 76/100\n",
            "12/12 [==============================] - 0s 3ms/step - loss: 0.1219 - accuracy: 0.9764 - val_loss: 0.1074 - val_accuracy: 0.9787\n",
            "Epoch 77/100\n",
            "12/12 [==============================] - 0s 3ms/step - loss: 0.1210 - accuracy: 0.9764 - val_loss: 0.1067 - val_accuracy: 0.9787\n",
            "Epoch 78/100\n",
            "12/12 [==============================] - 0s 3ms/step - loss: 0.1202 - accuracy: 0.9764 - val_loss: 0.1059 - val_accuracy: 0.9787\n",
            "Epoch 79/100\n",
            "12/12 [==============================] - 0s 3ms/step - loss: 0.1193 - accuracy: 0.9764 - val_loss: 0.1052 - val_accuracy: 0.9787\n",
            "Epoch 80/100\n",
            "12/12 [==============================] - 0s 3ms/step - loss: 0.1185 - accuracy: 0.9764 - val_loss: 0.1045 - val_accuracy: 0.9787\n",
            "Epoch 81/100\n",
            "12/12 [==============================] - 0s 3ms/step - loss: 0.1177 - accuracy: 0.9764 - val_loss: 0.1038 - val_accuracy: 0.9787\n",
            "Epoch 82/100\n",
            "12/12 [==============================] - 0s 3ms/step - loss: 0.1170 - accuracy: 0.9790 - val_loss: 0.1031 - val_accuracy: 0.9787\n",
            "Epoch 83/100\n",
            "12/12 [==============================] - 0s 3ms/step - loss: 0.1163 - accuracy: 0.9790 - val_loss: 0.1025 - val_accuracy: 0.9787\n",
            "Epoch 84/100\n",
            "12/12 [==============================] - 0s 3ms/step - loss: 0.1155 - accuracy: 0.9790 - val_loss: 0.1019 - val_accuracy: 0.9787\n",
            "Epoch 85/100\n",
            "12/12 [==============================] - 0s 3ms/step - loss: 0.1148 - accuracy: 0.9790 - val_loss: 0.1012 - val_accuracy: 0.9787\n",
            "Epoch 86/100\n",
            "12/12 [==============================] - 0s 3ms/step - loss: 0.1141 - accuracy: 0.9790 - val_loss: 0.1006 - val_accuracy: 0.9787\n",
            "Epoch 87/100\n",
            "12/12 [==============================] - 0s 3ms/step - loss: 0.1134 - accuracy: 0.9790 - val_loss: 0.1001 - val_accuracy: 0.9787\n",
            "Epoch 88/100\n",
            "12/12 [==============================] - 0s 3ms/step - loss: 0.1128 - accuracy: 0.9790 - val_loss: 0.0995 - val_accuracy: 0.9787\n",
            "Epoch 89/100\n",
            "12/12 [==============================] - 0s 3ms/step - loss: 0.1121 - accuracy: 0.9790 - val_loss: 0.0991 - val_accuracy: 0.9787\n",
            "Epoch 90/100\n",
            "12/12 [==============================] - 0s 3ms/step - loss: 0.1115 - accuracy: 0.9790 - val_loss: 0.0985 - val_accuracy: 0.9787\n",
            "Epoch 91/100\n",
            "12/12 [==============================] - 0s 3ms/step - loss: 0.1109 - accuracy: 0.9816 - val_loss: 0.0980 - val_accuracy: 0.9787\n",
            "Epoch 92/100\n",
            "12/12 [==============================] - 0s 3ms/step - loss: 0.1102 - accuracy: 0.9816 - val_loss: 0.0975 - val_accuracy: 0.9787\n",
            "Epoch 93/100\n",
            "12/12 [==============================] - 0s 3ms/step - loss: 0.1096 - accuracy: 0.9816 - val_loss: 0.0969 - val_accuracy: 0.9787\n",
            "Epoch 94/100\n",
            "12/12 [==============================] - 0s 3ms/step - loss: 0.1090 - accuracy: 0.9816 - val_loss: 0.0964 - val_accuracy: 0.9787\n",
            "Epoch 95/100\n",
            "12/12 [==============================] - 0s 3ms/step - loss: 0.1085 - accuracy: 0.9816 - val_loss: 0.0958 - val_accuracy: 0.9787\n",
            "Epoch 96/100\n",
            "12/12 [==============================] - 0s 3ms/step - loss: 0.1079 - accuracy: 0.9816 - val_loss: 0.0954 - val_accuracy: 0.9787\n",
            "Epoch 97/100\n",
            "12/12 [==============================] - 0s 3ms/step - loss: 0.1074 - accuracy: 0.9816 - val_loss: 0.0949 - val_accuracy: 0.9787\n",
            "Epoch 98/100\n",
            "12/12 [==============================] - 0s 3ms/step - loss: 0.1068 - accuracy: 0.9816 - val_loss: 0.0944 - val_accuracy: 0.9787\n",
            "Epoch 99/100\n",
            "12/12 [==============================] - 0s 3ms/step - loss: 0.1062 - accuracy: 0.9816 - val_loss: 0.0940 - val_accuracy: 0.9787\n",
            "Epoch 100/100\n",
            "12/12 [==============================] - 0s 3ms/step - loss: 0.1058 - accuracy: 0.9816 - val_loss: 0.0935 - val_accuracy: 0.9787\n"
          ],
          "name": "stdout"
        }
      ]
    },
    {
      "cell_type": "markdown",
      "metadata": {
        "id": "22x4s8SQPEVV"
      },
      "source": [
        "**EVALUATE THE MODEL**"
      ]
    },
    {
      "cell_type": "code",
      "metadata": {
        "colab": {
          "base_uri": "https://localhost:8080/"
        },
        "id": "F6Jw0g8MOWI1",
        "outputId": "a54b1bdd-6ab4-4032-d8b5-115609cb5a1a"
      },
      "source": [
        "#Loss and accuracy of train data\r\n",
        "print(model.evaluate(X_train,y_train))"
      ],
      "execution_count": 156,
      "outputs": [
        {
          "output_type": "stream",
          "text": [
            "12/12 [==============================] - 0s 1ms/step - loss: 0.1054 - accuracy: 0.9816\n",
            "[0.10544583946466446, 0.9816272854804993]\n"
          ],
          "name": "stdout"
        }
      ]
    },
    {
      "cell_type": "code",
      "metadata": {
        "colab": {
          "base_uri": "https://localhost:8080/"
        },
        "id": "kQxayWeUPTXP",
        "outputId": "bf32ad70-beac-4731-986d-1ce1fb7559f5"
      },
      "source": [
        "#Loss and accuracy of test data\r\n",
        "print(model.evaluate(X_test,y_test))"
      ],
      "execution_count": 157,
      "outputs": [
        {
          "output_type": "stream",
          "text": [
            "6/6 [==============================] - 0s 1ms/step - loss: 0.0935 - accuracy: 0.9787\n",
            "[0.09352482855319977, 0.978723406791687]\n"
          ],
          "name": "stdout"
        }
      ]
    },
    {
      "cell_type": "markdown",
      "metadata": {
        "id": "9BxfOnY5PeuN"
      },
      "source": [
        "**PLOT THE RESULTS**\r\n",
        "\r\n",
        "The Results plotted show that incase of loss metric it decreses with increase in number of epochs or iterations and \r\n",
        "\r\n",
        "For Accuracy we see Accuracy increases as number of epochs increases"
      ]
    },
    {
      "cell_type": "code",
      "metadata": {
        "colab": {
          "base_uri": "https://localhost:8080/"
        },
        "id": "DuNLz1_EQClq",
        "outputId": "7b99b065-204d-4128-8b39-84036f84494f"
      },
      "source": [
        "r.history.keys()"
      ],
      "execution_count": 158,
      "outputs": [
        {
          "output_type": "execute_result",
          "data": {
            "text/plain": [
              "dict_keys(['loss', 'accuracy', 'val_loss', 'val_accuracy'])"
            ]
          },
          "metadata": {
            "tags": []
          },
          "execution_count": 158
        }
      ]
    },
    {
      "cell_type": "code",
      "metadata": {
        "colab": {
          "base_uri": "https://localhost:8080/",
          "height": 296
        },
        "id": "5bImcOGOPaqt",
        "outputId": "7d1fa783-8695-4f23-aa9e-7f88d39717cd"
      },
      "source": [
        "#We clearly observe with each epochs model learning is more enhanced as loss value decreses continuously\r\n",
        "import matplotlib.pyplot as plt\r\n",
        "plt.plot(r.history['loss'],label='loss')\r\n",
        "plt.plot(r.history['val_loss'],label='val_loss')\r\n",
        "plt.xlabel(\"Loss and Validation loss\")\r\n",
        "plt.ylabel(\"Iteration Or Epochs\")\r\n",
        "plt.legend()"
      ],
      "execution_count": 160,
      "outputs": [
        {
          "output_type": "execute_result",
          "data": {
            "text/plain": [
              "<matplotlib.legend.Legend at 0x7f42c30e7eb8>"
            ]
          },
          "metadata": {
            "tags": []
          },
          "execution_count": 160
        },
        {
          "output_type": "display_data",
          "data": {
            "image/png": "[encoded data removed]",
            "text/plain": [
              "<Figure size 432x288 with 1 Axes>"
            ]
          },
          "metadata": {
            "tags": [],
            "needs_background": "light"
          }
        }
      ]
    },
    {
      "cell_type": "code",
      "metadata": {
        "colab": {
          "base_uri": "https://localhost:8080/",
          "height": 297
        },
        "id": "nku347xSQbXt",
        "outputId": "19e5d778-b6a3-4038-aee5-b9cc6225d7c8"
      },
      "source": [
        "#Here we observe that with each and every epoch the accuracy is increasing\r\n",
        "\r\n",
        "import matplotlib.pyplot as plt\r\n",
        "plt.plot(r.history['accuracy'],label='acc')\r\n",
        "plt.plot(r.history['val_accuracy'],label='val_accuracy')\r\n",
        "plt.xlabel(\"Accuracy and Validation Accuracy\")\r\n",
        "plt.ylabel(\"Iteration Or Epochs\")\r\n",
        "plt.legend()"
      ],
      "execution_count": 161,
      "outputs": [
        {
          "output_type": "execute_result",
          "data": {
            "text/plain": [
              "<matplotlib.legend.Legend at 0x7f42c3056b38>"
            ]
          },
          "metadata": {
            "tags": []
          },
          "execution_count": 161
        },
        {
          "output_type": "display_data",
          "data": {
            "image/png": "[encoded data removed]",
            "text/plain": [
              "<Figure size 432x288 with 1 Axes>"
            ]
          },
          "metadata": {
            "tags": [],
            "needs_background": "light"
          }
        }
      ]
    },
    {
      "cell_type": "markdown",
      "metadata": {
        "id": "5SVE80YaRzuf"
      },
      "source": [
        "**PREDICTION**"
      ]
    },
    {
      "cell_type": "code",
      "metadata": {
        "colab": {
          "base_uri": "https://localhost:8080/"
        },
        "id": "-V4UR1dLRqpK",
        "outputId": "0b09b183-489d-4b9e-9311-4c2523271e85"
      },
      "source": [
        "y_pred=model.predict(X_test)\r\n",
        "print(y_pred)"
      ],
      "execution_count": 163,
      "outputs": [
        {
          "output_type": "stream",
          "text": [
            "[[1.31291151e-03]\n",
            " [1.56319141e-03]\n",
            " [6.48984373e-01]\n",
            " [2.80921757e-02]\n",
            " [9.44825411e-01]\n",
            " [9.93844569e-01]\n",
            " [5.35136700e-01]\n",
            " [9.09880519e-01]\n",
            " [9.98067021e-01]\n",
            " [9.29633021e-01]\n",
            " [4.79211807e-02]\n",
            " [9.86146927e-01]\n",
            " [9.57919836e-01]\n",
            " [1.27676725e-02]\n",
            " [9.95977163e-01]\n",
            " [2.81706452e-03]\n",
            " [9.95682657e-01]\n",
            " [4.29540873e-04]\n",
            " [1.00550911e-04]\n",
            " [9.84240532e-01]\n",
            " [9.84763265e-01]\n",
            " [9.80726182e-01]\n",
            " [2.57730782e-02]\n",
            " [1.28526777e-01]\n",
            " [9.95482206e-01]\n",
            " [9.52440143e-01]\n",
            " [9.98694956e-01]\n",
            " [5.85485816e-01]\n",
            " [7.72493899e-01]\n",
            " [6.65323569e-06]\n",
            " [9.80602741e-01]\n",
            " [9.97441173e-01]\n",
            " [8.90837908e-01]\n",
            " [9.12051558e-01]\n",
            " [6.31329536e-01]\n",
            " [1.96695328e-04]\n",
            " [6.15298748e-03]\n",
            " [9.69647884e-01]\n",
            " [9.92901683e-01]\n",
            " [9.24787521e-01]\n",
            " [9.84474421e-01]\n",
            " [9.98921156e-01]\n",
            " [1.86401904e-02]\n",
            " [5.18116653e-02]\n",
            " [9.22610462e-01]\n",
            " [9.96187449e-01]\n",
            " [6.74277544e-03]\n",
            " [8.12119484e-01]\n",
            " [9.71339177e-05]\n",
            " [8.73997569e-01]\n",
            " [9.88412857e-01]\n",
            " [1.63408811e-06]\n",
            " [1.65127128e-01]\n",
            " [1.05919719e-01]\n",
            " [1.63602829e-03]\n",
            " [9.98039126e-01]\n",
            " [8.68909299e-01]\n",
            " [4.20036912e-03]\n",
            " [9.55378830e-01]\n",
            " [1.51190698e-01]\n",
            " [3.17385793e-03]\n",
            " [9.09396172e-01]\n",
            " [5.02020121e-04]\n",
            " [9.70614672e-01]\n",
            " [7.54799545e-01]\n",
            " [9.95990992e-01]\n",
            " [9.47367370e-01]\n",
            " [1.09469295e-02]\n",
            " [6.13940954e-02]\n",
            " [9.87908006e-01]\n",
            " [9.94999409e-01]\n",
            " [4.51592207e-02]\n",
            " [4.44844693e-01]\n",
            " [1.51325941e-01]\n",
            " [8.64539146e-01]\n",
            " [9.30577040e-01]\n",
            " [1.31911039e-03]\n",
            " [1.24694794e-01]\n",
            " [9.37372506e-01]\n",
            " [2.30726987e-01]\n",
            " [9.03935492e-01]\n",
            " [5.91844320e-04]\n",
            " [6.13600016e-03]\n",
            " [9.92853522e-01]\n",
            " [9.91209269e-01]\n",
            " [5.26438016e-05]\n",
            " [9.85910296e-01]\n",
            " [2.89627612e-01]\n",
            " [9.97651637e-01]\n",
            " [9.58388329e-01]\n",
            " [9.86950994e-01]\n",
            " [1.08899621e-06]\n",
            " [9.11056757e-01]\n",
            " [6.38250709e-02]\n",
            " [9.94299531e-01]\n",
            " [2.03705579e-01]\n",
            " [9.78838801e-01]\n",
            " [9.94136691e-01]\n",
            " [3.15368176e-03]\n",
            " [9.56914306e-01]\n",
            " [9.98801291e-01]\n",
            " [9.98712182e-01]\n",
            " [9.68044996e-01]\n",
            " [8.63598347e-01]\n",
            " [5.89544654e-01]\n",
            " [3.23112488e-01]\n",
            " [9.97336507e-01]\n",
            " [9.96192217e-01]\n",
            " [2.58874893e-03]\n",
            " [9.94353771e-01]\n",
            " [8.05050135e-04]\n",
            " [9.94171858e-01]\n",
            " [7.49173820e-01]\n",
            " [1.71466907e-09]\n",
            " [7.96845019e-01]\n",
            " [9.78722811e-01]\n",
            " [3.43799591e-04]\n",
            " [9.87176299e-01]\n",
            " [9.96995091e-01]\n",
            " [9.85474825e-01]\n",
            " [9.96577263e-01]\n",
            " [9.73174751e-01]\n",
            " [9.95857716e-01]\n",
            " [1.90824270e-04]\n",
            " [2.46961713e-02]\n",
            " [9.67749953e-02]\n",
            " [9.90387976e-01]\n",
            " [7.06815720e-01]\n",
            " [3.11027467e-02]\n",
            " [9.21764612e-01]\n",
            " [4.14946675e-02]\n",
            " [6.31552100e-01]\n",
            " [9.90643620e-01]\n",
            " [2.78055668e-04]\n",
            " [1.20966882e-01]\n",
            " [3.57149839e-02]\n",
            " [9.37025487e-01]\n",
            " [9.69402015e-01]\n",
            " [9.99735236e-01]\n",
            " [2.10136831e-01]\n",
            " [6.35454118e-01]\n",
            " [8.29990029e-01]\n",
            " [9.78618622e-01]\n",
            " [9.92308855e-01]\n",
            " [5.31297624e-02]\n",
            " [9.95686352e-01]\n",
            " [9.82136369e-01]\n",
            " [9.60480213e-01]\n",
            " [9.91298556e-01]\n",
            " [9.95207369e-01]\n",
            " [9.98364210e-01]\n",
            " [1.20438933e-02]\n",
            " [1.02811694e-01]\n",
            " [9.99834776e-01]\n",
            " [3.65585089e-04]\n",
            " [9.82133627e-01]\n",
            " [9.91289735e-01]\n",
            " [7.52747059e-04]\n",
            " [2.59259939e-01]\n",
            " [8.36978912e-01]\n",
            " [9.41637397e-01]\n",
            " [8.35693002e-01]\n",
            " [9.86496449e-01]\n",
            " [2.94387341e-03]\n",
            " [8.22049141e-01]\n",
            " [7.76008010e-01]\n",
            " [2.72780657e-03]\n",
            " [9.94120657e-01]\n",
            " [3.90911102e-03]\n",
            " [9.94180679e-01]\n",
            " [1.89591526e-06]\n",
            " [9.37444031e-01]\n",
            " [9.54945385e-01]\n",
            " [9.92233396e-01]\n",
            " [9.75984573e-01]\n",
            " [9.69356656e-01]\n",
            " [3.75901550e-01]\n",
            " [3.67151797e-02]\n",
            " [8.15777242e-01]\n",
            " [9.85035181e-01]\n",
            " [9.94214416e-01]\n",
            " [9.95932341e-01]\n",
            " [9.98828173e-01]\n",
            " [9.36454833e-01]\n",
            " [9.89202142e-01]\n",
            " [3.86291742e-03]\n",
            " [9.97077167e-01]\n",
            " [9.85210836e-01]]\n"
          ],
          "name": "stdout"
        }
      ]
    },
    {
      "cell_type": "code",
      "metadata": {
        "colab": {
          "base_uri": "https://localhost:8080/"
        },
        "id": "o-spzwDZR5i8",
        "outputId": "29e749fd-6601-4c62-afb4-ee881d0ae0e4"
      },
      "source": [
        "import numpy as np\r\n",
        "y_pred=np.round(y_pred).flatten()\r\n",
        "print(y_pred)\r\n"
      ],
      "execution_count": 167,
      "outputs": [
        {
          "output_type": "stream",
          "text": [
            "[0. 0. 1. 0. 1. 1. 1. 1. 1. 1. 0. 1. 1. 0. 1. 0. 1. 0. 0. 1. 1. 1. 0. 0.\n",
            " 1. 1. 1. 1. 1. 0. 1. 1. 1. 1. 1. 0. 0. 1. 1. 1. 1. 1. 0. 0. 1. 1. 0. 1.\n",
            " 0. 1. 1. 0. 0. 0. 0. 1. 1. 0. 1. 0. 0. 1. 0. 1. 1. 1. 1. 0. 0. 1. 1. 0.\n",
            " 0. 0. 1. 1. 0. 0. 1. 0. 1. 0. 0. 1. 1. 0. 1. 0. 1. 1. 1. 0. 1. 0. 1. 0.\n",
            " 1. 1. 0. 1. 1. 1. 1. 1. 1. 0. 1. 1. 0. 1. 0. 1. 1. 0. 1. 1. 0. 1. 1. 1.\n",
            " 1. 1. 1. 0. 0. 0. 1. 1. 0. 1. 0. 1. 1. 0. 0. 0. 1. 1. 1. 0. 1. 1. 1. 1.\n",
            " 0. 1. 1. 1. 1. 1. 1. 0. 0. 1. 0. 1. 1. 0. 0. 1. 1. 1. 1. 0. 1. 1. 0. 1.\n",
            " 0. 1. 0. 1. 1. 1. 1. 1. 0. 0. 1. 1. 1. 1. 1. 1. 1. 0. 1. 1.]\n"
          ],
          "name": "stdout"
        }
      ]
    },
    {
      "cell_type": "markdown",
      "metadata": {
        "id": "7LmyXJB-SNja"
      },
      "source": [
        "**CALCULATE THE MODEL ACCURACY**"
      ]
    },
    {
      "cell_type": "code",
      "metadata": {
        "colab": {
          "base_uri": "https://localhost:8080/"
        },
        "id": "lnzmasCXSCPB",
        "outputId": "2bf7fff6-796d-4c80-83b4-e2fd752dbcef"
      },
      "source": [
        "np.mean(y_pred==y_test)"
      ],
      "execution_count": 168,
      "outputs": [
        {
          "output_type": "execute_result",
          "data": {
            "text/plain": [
              "0.9787234042553191"
            ]
          },
          "metadata": {
            "tags": []
          },
          "execution_count": 168
        }
      ]
    },
    {
      "cell_type": "code",
      "metadata": {
        "colab": {
          "base_uri": "https://localhost:8080/"
        },
        "id": "7Cct4FEhSh3u",
        "outputId": "ffd620ca-5bc3-4c6f-c4b7-89eafe117c66"
      },
      "source": [
        "model.evaluate(X_test,y_test)"
      ],
      "execution_count": 169,
      "outputs": [
        {
          "output_type": "stream",
          "text": [
            "6/6 [==============================] - 0s 1ms/step - loss: 0.0935 - accuracy: 0.9787\n"
          ],
          "name": "stdout"
        },
        {
          "output_type": "execute_result",
          "data": {
            "text/plain": [
              "[0.09352482855319977, 0.978723406791687]"
            ]
          },
          "metadata": {
            "tags": []
          },
          "execution_count": 169
        }
      ]
    },
    {
      "cell_type": "code",
      "metadata": {
        "id": "Ft5TqD8HSxdz"
      },
      "source": [
        ""
      ],
      "execution_count": null,
      "outputs": []
    }
  ]
}